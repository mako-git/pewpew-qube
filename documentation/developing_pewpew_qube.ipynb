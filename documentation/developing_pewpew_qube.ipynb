{
 "cells": [
  {
   "cell_type": "markdown",
   "metadata": {},
   "source": [
    "# Looking under the hood of PewPew Qube"
   ]
  },
  {
   "cell_type": "markdown",
   "metadata": {},
   "source": [
    "<a href=\"https://github.com/qiskit-community/qiskit-camp-europe-19/issues/62\">PewPew Qube</a> is a quantum adaption of the famous Rubik's cube to the PewPew handheld console. \n",
    "It has been developed at the <a href=\"https://qiskit.camp/europe/\">Qiskit Camp Europe</a> hackathon in September 2019. \n",
    "\n",
    "In short, the goal is to transform a random initial state to a well-defined final state. \n",
    "For a Rubik's cube, this is done by rotating the six sides of a multi-colored cube until all sides of the cube uniformly colored.\n",
    "For the PewPew Qube game, the player applies quantum gates to the state vector of a two-qubit system. \n",
    "These gates rotate the state vector around various directions on the two-qubit Bloch-(hyper)sphere.\n",
    "The goal is to reach a specific target state.\n",
    "A more detailed explanation of the game and hints how to solve it are given <a href=\"./documentation.ipynb\">here</a>.\n",
    "\n",
    "In this notebook, we discuss the source code of the PewPew Qube. "
   ]
  },
  {
   "cell_type": "code",
   "execution_count": null,
   "metadata": {},
   "outputs": [],
   "source": [
    "%matplotlib notebook"
   ]
  },
  {
   "cell_type": "code",
   "execution_count": null,
   "metadata": {},
   "outputs": [],
   "source": [
    "# import pygame to run the PewPew emulator from a notebook\n",
    "import pygame\n",
    "\n",
    "# add the src directory to the search path to load modules\n",
    "import sys\n",
    "sys.path.insert(0, \"../src/\")"
   ]
  },
  {
   "cell_type": "markdown",
   "metadata": {},
   "source": [
    " "
   ]
  },
  {
   "cell_type": "markdown",
   "metadata": {},
   "source": [
    "## Basic interaction with the hardware"
   ]
  },
  {
   "cell_type": "markdown",
   "metadata": {},
   "source": [
    "In a first step, we discuss the basic working principle of the PewPew console at the example of the animated initialization screen of the PewPew Qube game.\n",
    "\n",
    "The screen of the PewPew console consists of 8x8 LEDs that can display four different brightness values (0 = off, 1, 2, and 3).\n",
    "Thus, a single frame is represented by a 8x8 tuple of integers, and animations are obtained by showing several frames one after another. \n",
    "To display an animated qiskit logo, we need the four different frames, which we store in the tuple *qiskit_images*"
   ]
  },
  {
   "cell_type": "code",
   "execution_count": null,
   "metadata": {},
   "outputs": [],
   "source": [
    "qiskit_images = (\n",
    "    (\n",
    "        (0, 3, 3, 3, 3, 3, 3, 0),\n",
    "        (3, 2, 0, 1, 1, 0, 0, 3),\n",
    "        (3, 0, 2, 0, 0, 1, 0, 3),\n",
    "        (3, 1, 0, 2, 0, 0, 1, 3),\n",
    "        (3, 3, 0, 0, 2, 0, 3, 3),\n",
    "        (3, 0, 3, 3, 3, 3, 0, 3),\n",
    "        (3, 0, 0, 0, 0, 0, 2, 3),\n",
    "        (0, 3, 3, 3, 3, 3, 3, 0)\n",
    "    ),\n",
    "    (\n",
    "        (0, 3, 3, 3, 3, 3, 3, 0),\n",
    "        (3, 0, 0, 2, 1, 0, 0, 3),\n",
    "        (3, 0, 1, 2, 0, 1, 0, 3),\n",
    "        (3, 1, 0, 0, 2, 0, 1, 3),\n",
    "        (3, 3, 0, 0, 2, 0, 3, 3),\n",
    "        (3, 0, 3, 3, 3, 3, 0, 3),\n",
    "        (3, 0, 0, 0, 0, 2, 0, 3),\n",
    "        (0, 3, 3, 3, 3, 3, 3, 0)\n",
    "    ),\n",
    "    (\n",
    "        (0, 3, 3, 3, 3, 3, 3, 0),\n",
    "        (3, 0, 0, 1, 2, 0, 0, 3),\n",
    "        (3, 0, 1, 0, 2, 1, 0, 3),\n",
    "        (3, 1, 0, 2, 0, 0, 1, 3),\n",
    "        (3, 3, 0, 2, 0, 0, 3, 3),\n",
    "        (3, 0, 3, 3, 3, 3, 0, 3),\n",
    "        (3, 0, 2, 0, 0, 0, 0, 3),\n",
    "        (0, 3, 3, 3, 3, 3, 3, 0)\n",
    "    ),\n",
    "    (\n",
    "        (0, 3, 3, 3, 3, 3, 3, 0),\n",
    "        (3, 0, 0, 1, 1, 0, 2, 3),\n",
    "        (3, 0, 1, 0, 0, 2, 0, 3),\n",
    "        (3, 1, 0, 0, 2, 0, 1, 3),\n",
    "        (3, 3, 0, 2, 0, 0, 3, 3),\n",
    "        (3, 0, 3, 3, 3, 3, 0, 3),\n",
    "        (3, 2, 0, 0, 0, 0, 0, 3),\n",
    "        (0, 3, 3, 3, 3, 3, 3, 0)\n",
    "    )\n",
    ")"
   ]
  },
  {
   "cell_type": "markdown",
   "metadata": {},
   "source": [
    "The main loop of the program performs three tasks: \n",
    "\n",
    " * First, it checks if any buttons are pressed. \n",
    "   This is done by a bitwise AND of the output of *pew.keys()* and predefined masks *pew.K_UP*, *pew.K_DOWN*, etc. \n",
    "   Each button is assigned to a certain level, whose number is stored in the variable *value*. \n",
    " * Second, the main loop determines the next frame to be displayed in the animation and updates the screen. \n",
    " * Finally, the program waits 100 milliseconds and repeats the loop unless a level has already been chosen. \n",
    " \n",
    "Here is the corresponding code:"
   ]
  },
  {
   "cell_type": "code",
   "execution_count": null,
   "metadata": {},
   "outputs": [],
   "source": [
    "import pew\n",
    "\n",
    "i = 0      # frame counter\n",
    "value = 0  # selected level\n",
    "\n",
    "pew.init() # initialize the PewPew console\n",
    "\n",
    "# main loop\n",
    "while not value:\n",
    "    # check for pressed keys\n",
    "    keys = pew.keys()\n",
    "    if keys & pew.K_UP:\n",
    "        value = 1\n",
    "    elif keys & pew.K_RIGHT:\n",
    "        value = 2\n",
    "    elif keys & pew.K_DOWN:\n",
    "        value = 3\n",
    "    elif keys & pew.K_LEFT:\n",
    "        value = 4\n",
    "    \n",
    "    # display the next frame\n",
    "    animation = (0,0,1,1,2,2,3,3,2,2,1,1)\n",
    "    i = (i + 1) % len(animation)\n",
    "    screen = qiskit_images[animation[i]]\n",
    "    pew.show(pew.Pix.from_iter(screen))\n",
    "    \n",
    "    # wait 0.1 seconds\n",
    "    pew.tick(0.1)\n",
    "    \n",
    "# freeze the screen while a button is pressed\n",
    "while pew.keys():\n",
    "    pew.tick(0.1)\n",
    "\n",
    "# the following is just necessary in a jupyter notebook:\n",
    "pygame.display.quit()\n",
    "pygame.quit()"
   ]
  },
  {
   "cell_type": "markdown",
   "metadata": {},
   "source": [
    "At this point of the source code, the main loop has been terminated and the player has selected a specific level. Let's play!\n",
    "\n",
    "But wait... Before loading the level, we must perform three intermediate steps: \n",
    " * we initialize the random-number generator with the time that has passed since the PewPew console has been switched on. Otherwise, the random seed will always be the same and the levels start with identical states over and over again. \n",
    " * to save RAM, we unload the *qiskit_images* tuple\n",
    " * we load a more sophisticated main loop that is used to executes the levels. \n",
    "\n",
    "Finally, we are now in a position to load the specified level. \n",
    "Each level is represented by a so-called *instruction set* (a class with a certain structure discussed below) that is passed as an argument to the new main loop:"
   ]
  },
  {
   "cell_type": "code",
   "execution_count": null,
   "metadata": {},
   "outputs": [],
   "source": [
    "import random\n",
    "import time\n",
    "\n",
    "# initialize the random-number generator\n",
    "random.seed(int(time.monotonic()*1000))\n",
    "\n",
    "# unload unnecessary objects to save RAM\n",
    "del qiskit_images\n",
    "\n",
    "# load the new main loop \n",
    "from loop import main_loop\n",
    "\n",
    "# execute the new main loop passing to it the seleced level\n",
    "if value == 1:\n",
    "    from rotations import instruction_set_XYZ\n",
    "    main_loop(instruction_set_XYZ())\n",
    "else:\n",
    "    from instruction_sets import InstructionSet\n",
    "    from displays import IBMQ\n",
    "    main_loop(InstructionSet(level=value-2, goal=IBMQ))\n",
    "    \n",
    "# the following is just necessary in a jupyter notebook:\n",
    "pygame.display.quit()\n",
    "pygame.quit()"
   ]
  },
  {
   "cell_type": "markdown",
   "metadata": {},
   "source": [
    "In the next section, we will have a closer look at the new main loop and its addional features. "
   ]
  },
  {
   "cell_type": "markdown",
   "metadata": {},
   "source": [
    " "
   ]
  },
  {
   "cell_type": "markdown",
   "metadata": {},
   "source": [
    "## Advanced interaction with the hardware"
   ]
  },
  {
   "cell_type": "markdown",
   "metadata": {},
   "source": [
    "The new main loop has to fulfill two important additional requirements: \n",
    " * If a button is pressed, the loop should not just quit as before. \n",
    "   Instead, it should update the screen and the level should continue. \n",
    " * The buttons of the PewPew console must be debounced.\n",
    "\n",
    "To fulfill the first task, we need a standardized way how to interact with the different levels. \n",
    "Therefore, all levels are instances of a certain class, which we call an *instruction set*. \n",
    "The instruction set of the chosen level is passed as the first argument of the main loop. \n",
    "In the next section, we will dive into the details of the instruction set.\n",
    "For now, it is only important to know that \n",
    " * the instruction set has a method *get_current_screen()* that return a frame to be displayed (*i.e.*, an 8x8 tuple of integers ranging from 0 to 3), and that\n",
    " * the instruction set has a method *key_pressed(value)* by which we can nofity the instruction set if a button has been pressed.\n",
    "\n",
    "Here is the code of the new main loop: "
   ]
  },
  {
   "cell_type": "code",
   "execution_count": null,
   "metadata": {},
   "outputs": [],
   "source": [
    "def main_loop(ins):\n",
    "    # initialize PewPew console\n",
    "    pew.init()\n",
    "\n",
    "    # Load start screens\n",
    "    for start_screen in start_screens:\n",
    "        pew.show(pew.Pix.from_iter(start_screen))\n",
    "        pew.tick(0.2)\n",
    "    pew.show(pew.Pix.from_iter(blank_screen))\n",
    "    pew.tick(0.5)\n",
    "    \n",
    "    # display the first frame of the level\n",
    "    pew.show(ins.get_current_screen())\n",
    "\n",
    "    # flags used throughout the loop\n",
    "    bool_loop = True\n",
    "    old_keys = 0\n",
    "    \n",
    "    # new main loop\n",
    "    while bool_loop:\n",
    "        keys = pew.keys()\n",
    "    \n",
    "        if keys != 0 and keys != old_keys:\n",
    "            # old_keys is necessary to debounce the buttons\n",
    "            old_keys = keys\n",
    "    \n",
    "            # dispatch the pushed buttons\n",
    "            if keys & pew.K_X:\n",
    "                value = pew.K_X\n",
    "            elif keys & pew.K_DOWN:\n",
    "                value = pew.K_DOWN\n",
    "            elif keys & pew.K_LEFT:\n",
    "                value = pew.K_LEFT\n",
    "            elif keys & pew.K_RIGHT:\n",
    "                value = pew.K_RIGHT\n",
    "            elif keys & pew.K_UP:\n",
    "                value = pew.K_UP\n",
    "            elif keys & pew.K_O:\n",
    "                # the key \"O\" (\"Z\" in the emulator) will terminate the game\n",
    "                value = pew.K_O\n",
    "                bool_loop = False\n",
    "            else:\n",
    "                value = 0\n",
    "\n",
    "            # send the pressed key to the instruction set\n",
    "            ins.key_pressed(value)\n",
    "    \n",
    "        elif keys == 0:\n",
    "            # this is necessary to be able to push \n",
    "            # a button twice in a row\n",
    "            old_keys = keys\n",
    "    \n",
    "        # update the screen and wait for 20ms\n",
    "        pew.show(ins.get_current_screen())\n",
    "        pew.tick(0.02)\n",
    "        \n",
    "    # the program has been terminated. \n",
    "    # display the final sequence\n",
    "    for final_screen in final_screens:\n",
    "        pew.show(pew.Pix.from_iter(final_screen))\n",
    "        pew.tick(0.2)\n",
    "    pew.show(pew.Pix.from_iter(blank_screen))\n",
    "    pew.tick(0.2)"
   ]
  },
  {
   "cell_type": "markdown",
   "metadata": {},
   "source": [
    "The new main loop starts very similar to the basic one introduced in the first section: \n",
    "It displays an animation whose frames are defined in the tuple *start_screen*.\n",
    "It can be found in the file <a href=\"../src/loop.py\">loop.py</a>. \n",
    "\n",
    "Next, it takes retrieves the first frame of the current level and displays it. \n",
    "\n",
    "Analogous to the simple loop discussed in the previous section, the while loop monitors the buttons of the PewPew console and updates the screen. \n",
    "\n",
    "However, the buttons now must be debounced, *i.e.*, only a single key-pressed event should be raised if the button is pressed, and holding the button down for longer should not raise more key-pressed events. To achieve this, we introduce an additional variable *old_keys* that stores the last pushed button. \n",
    "A key-pressed event is only processed if the pushed button differs from the previous one stored in *old_keys*.\n",
    "\n",
    "If a new button has been pressed, this information is passed to the instruction set via the *key_pressed* method, a new frame is obtained using the *get_current_screen* method, and the display is updated.\n",
    "\n",
    "Upon termination of the main loop, a farewell animation is displayed, which is stored in the tuple *final_screen*. "
   ]
  },
  {
   "cell_type": "markdown",
   "metadata": {},
   "source": [
    " "
   ]
  },
  {
   "cell_type": "markdown",
   "metadata": {},
   "source": [
    "## Defining levels"
   ]
  },
  {
   "cell_type": "markdown",
   "metadata": {},
   "source": [
    "Finally, we are prepared to discuss the most important point of this tutorial: How to define a level of the PewPew Qube game. \n",
    "Here is the instruction set of level 4, which is defined in the file <a href=\"../scr/rotations.py\">rotations.py</a>: "
   ]
  },
  {
   "cell_type": "code",
   "execution_count": null,
   "metadata": {},
   "outputs": [],
   "source": [
    "class instruction_set_XYZ:\n",
    "    \n",
    "    def __init__(self):\n",
    "        # history of pushed keys\n",
    "        self.key_hist = []\n",
    "        # current state vector\n",
    "        self.state = random_state()\n",
    "\n",
    "    def key_pressed(self, key):\n",
    "        if key == pew.K_UP:\n",
    "            # forget all pushed buttons\n",
    "            self.key_hist = []\n",
    "        elif key == pew.K_LEFT or key == pew.K_DOWN or key == pew.K_RIGHT:\n",
    "            # append button to history\n",
    "            self.key_hist.append(key)\n",
    "            \n",
    "            # if two buttons have been pressed, determine the corresponding transformation\n",
    "            if len(self.key_hist) == 2:\n",
    "                if self.key_hist[0] == pew.K_LEFT:\n",
    "                    gate = 'x'\n",
    "                elif self.key_hist[0] == pew.K_DOWN:\n",
    "                    gate = 'y'\n",
    "                else:\n",
    "                    gate = 'z'\n",
    "                \n",
    "                if self.key_hist[1] == pew.K_LEFT:\n",
    "                    gate = gate + 'x'\n",
    "                elif self.key_hist[1] == pew.K_DOWN:\n",
    "                    gate = gate + 'y'\n",
    "                else:\n",
    "                    gate = gate + 'z'\n",
    "                \n",
    "                # update the state vector\n",
    "                self.state = propagate_statevector(self.state, make_circuit(gate))\n",
    "                \n",
    "                # clear the history of pushed buttons\n",
    "                self.key_hist = []\n",
    "        elif key == pew.K_X:\n",
    "            # restart the level\n",
    "            self.__init__()\n",
    "\n",
    "    def get_current_screen(self):\n",
    "        return make_image(self.state)"
   ]
  },
  {
   "cell_type": "markdown",
   "metadata": {},
   "source": [
    "You know already the methods *key_pressed()* and *get_current_screen()* that are required by the main loop. \n",
    "In addition, there is the constructor *\\__init\\__*. \n",
    "Its purpose is to set up the \"memory\" of the level:\n",
    "\n",
    " * the variable *self.state* contains the current quantum state\n",
    " * the list *self.key_hist* is a memory of the pushed buttons. \n",
    "   This is important, because the transformation of the state vector in this level is defined by two rotation axes, one per qubit. \n",
    "   Thus, valid inputs are, *xx*, *xy*, *xz*, etc. and the state vector should only be modified after two *key_pressed* events. \n",
    "\n",
    "Consequently, the *key_pressed* method appends the values of the pushed buttons to the *key_hist* list until it contains two elements. \n",
    "Then, the corresponding transformation is determined, applied to the state vector, and *key_hist* is reset. \n",
    "\n",
    "Finally, there is the method *get_current_screen* which calls an auxiliary function *make_image* to convert the current state vector to a frame of the screen. \n",
    "\n",
    "Congratulations, now you know all that is necessary to develop your own levels for the PewPew Qube game. \n",
    "If you can't wait to start coding, go ahead! \n",
    "If you feel you need more details on the *aether* library, read on to get more information on designing quantum games. "
   ]
  },
  {
   "cell_type": "markdown",
   "metadata": {},
   "source": [
    " "
   ]
  },
  {
   "cell_type": "markdown",
   "metadata": {},
   "source": [
    "## Writing a level of a quantum game"
   ]
  },
  {
   "cell_type": "markdown",
   "metadata": {},
   "source": [
    "In this section, we discuss the methods *random_state*, *make_circuit*, *propagate_statevector*, and *make_image* defined in <a href=\"../src/rotations.py\">rotations.py</a> and <a href=\"../src/propagate_statevector.py\">propagate_statevector.py</a>. \n",
    "They are used to transform a two-qubit state vector by applying quantum gates to it depending on the user's input. \n",
    "\n",
    "The heart of our quantum game is the function *make_circuit*. \n",
    "It creates a new quantum circuit *qc* that rotates the two-qubit state around the axes specified in the two-character string *gate*:"
   ]
  },
  {
   "cell_type": "code",
   "execution_count": null,
   "metadata": {},
   "outputs": [],
   "source": [
    "from aether import QuantumCircuit\n",
    "\n",
    "pi4 = 0.785398\n",
    "pi2 = 1.570796\n",
    "\n",
    "def make_circuit(gate):\n",
    "    qc = QuantumCircuit(2)\n",
    "    \n",
    "    if gate[0] == 'x':\n",
    "        qc.h(0)\n",
    "    elif gate[0] == 'y':\n",
    "        qc.rx(pi2,0)\n",
    "    \n",
    "    if gate[1] == 'x':\n",
    "        qc.h(1)\n",
    "    elif gate[1] == 'y':\n",
    "        qc.rx(pi2,1)\n",
    "    \n",
    "    qc.cx(0,1)\n",
    "    qc.h(1)\n",
    "    qc.rx(pi2,1)\n",
    "    qc.h(1)\n",
    "    qc.cx(0,1)\n",
    "    \n",
    "    if gate[0] == 'x':\n",
    "        qc.h(0)\n",
    "    elif gate[0] == 'y':\n",
    "        qc.rx(-pi2,0)\n",
    "    \n",
    "    if gate[1] == 'x':\n",
    "        qc.h(1)\n",
    "    elif gate[1] == 'y':\n",
    "        qc.rx(-pi2,1)\n",
    "    \n",
    "    return qc"
   ]
  },
  {
   "cell_type": "markdown",
   "metadata": {},
   "source": [
    "Once a quantum circuit *qc* is defined, the function *propagate_statevector* can be used to applythe circuit to a state vector *vec*: "
   ]
  },
  {
   "cell_type": "code",
   "execution_count": null,
   "metadata": {},
   "outputs": [],
   "source": [
    "from aether import QuantumCircuit, simulate\n",
    "\n",
    "def propagate_statevector(vec,qc):\n",
    "    qc_i = QuantumCircuit(2,0)\n",
    "    qc_i.initialize(vec)\n",
    "\n",
    "    return simulate(qc_i + qc, get='statevector')"
   ]
  },
  {
   "cell_type": "markdown",
   "metadata": {},
   "source": [
    "Combining these two functions allows us to generate a random statevector by applying, say, 5 randomly chosen quantum circuits to the initial statevector $\\vert 00 \\rangle$:"
   ]
  },
  {
   "cell_type": "code",
   "execution_count": null,
   "metadata": {},
   "outputs": [],
   "source": [
    "def random_state():\n",
    "    state = [[1.0,0.0],[0.0,0.0],[0.0,0.0],[0.0,0.0]]\n",
    "    \n",
    "    for i in range(5):\n",
    "        gate = ['xx','xy','xz','yx','yz','yy','zx','zy','zz'][randint(0,8)]\n",
    "        qc = make_circuit(gate)\n",
    "        state = propagate_statevector(state, qc)\n",
    "    return state"
   ]
  },
  {
   "cell_type": "markdown",
   "metadata": {},
   "source": [
    "The only missing ingredient of our quantum level is a prescription to visualize the state vector. \n",
    "This is accomplished by the function *make_image*: "
   ]
  },
  {
   "cell_type": "code",
   "execution_count": null,
   "metadata": {},
   "outputs": [],
   "source": [
    "def make_image(state):\n",
    "    blocks = []\n",
    "    for num in state:\n",
    "        blocks.append(make_block(num))\n",
    "    \n",
    "    image = pew.Pix()\n",
    "    \n",
    "    for i in range(2):\n",
    "        for j in range(4):\n",
    "            tmp = blocks[2*i][j] + blocks[2*i+1][j]\n",
    "            for x in range(8):\n",
    "                image.pixel(x,4*i+j,tmp[x])\n",
    "    \n",
    "    return image "
   ]
  },
  {
   "cell_type": "markdown",
   "metadata": {},
   "source": [
    "This function iterates the four complex probability amplitudes of to the states $\\vert 00 \\rangle$, $\\vert 01 \\rangle$, $\\vert 10 \\rangle$, and $\\vert 11 \\rangle$ and converts them into 4x4 blocks. \n",
    "In turn, these four blocks are then combined to a single 8x8 image to be displayed. \n",
    "The *make_block* function first determines the magnitude and phase of each probability amplitude. \n",
    "The amplitude determines the shape of the output pattern, whereas the phase determines its orientation:"
   ]
  },
  {
   "cell_type": "code",
   "execution_count": null,
   "metadata": {},
   "outputs": [],
   "source": [
    "def make_block(c_num):\n",
    "    amp = sqrt(c_num[0]*c_num[0] + c_num[1]*c_num[1])\n",
    "    phi = atan2(c_num[1], c_num[0])\n",
    "    \n",
    "    if amp < 0.01:\n",
    "        phi = 0\n",
    "    \n",
    "    scenario = 0\n",
    "    phases = [0.0, pi4, -pi4, 2.0*pi4, -2.0*pi4, 3.0*pi4, -3.0*pi4, 4.0*pi4, -4.0*pi4]\n",
    "    scenarios = [1,  -1,   -2,   4,        2,      -4,       -3,       3,        3      ]\n",
    "    for i in range(9):\n",
    "        if (phi - phases[i])*(phi - phases[i]) < 0.001:\n",
    "            scenario = scenarios[i]\n",
    "            continue\n",
    "    \n",
    "    if amp < 0.25:\n",
    "        block = [[0,0,0,0],[0,2,2,0],[0,2,2,0],[0,0,0,0]]\n",
    "    elif amp < 0.6:\n",
    "        if scenario > 0:\n",
    "            block = [[0,0,2,0],[0,0,0,2],[0,0,0,2],[0,0,2,0]]\n",
    "        else:\n",
    "            block = [[0,0,0,0],[0,2,2,0],[0,0,2,0],[0,0,0,0]]\n",
    "    elif amp < 0.9:\n",
    "        if scenario > 0:\n",
    "            block = [[0,0,0,2],[0,0,2,0],[0,0,2,0],[0,0,0,2]]\n",
    "        else:\n",
    "            block = [[0,0,2,0],[0,0,2,2],[0,0,0,0],[0,0,0,0]]\n",
    "    else:\n",
    "        if scenario > 0:\n",
    "            block = [[0,0,0,2],[0,0,0,2],[0,0,0,2],[0,0,0,2]]\n",
    "        else:\n",
    "            block = [[0,0,2,2],[0,0,0,2],[0,0,0,0],[0,0,0,0]]\n",
    "    \n",
    "    if scenario != 1 and scenario != -1:\n",
    "        for r in range(abs(scenario) - 1):\n",
    "            block = rot90(block)\n",
    "    \n",
    "    return block"
   ]
  },
  {
   "cell_type": "markdown",
   "metadata": {},
   "source": [
    "Rotations of the pattern by $90$ degrees are done with the following method:"
   ]
  },
  {
   "cell_type": "code",
   "execution_count": null,
   "metadata": {},
   "outputs": [],
   "source": [
    "def rot90(block):\n",
    "    res = []\n",
    "    for i in range(len(block)):\n",
    "        transposed = []\n",
    "        for col in block:\n",
    "            transposed.append(col[i])\n",
    "        transposed.reverse()\n",
    "        res.append(transposed)\n",
    "    return res"
   ]
  },
  {
   "cell_type": "markdown",
   "metadata": {},
   "source": [
    " "
   ]
  },
  {
   "cell_type": "markdown",
   "metadata": {},
   "source": [
    "The levels 1-3 of PewPew Qube are defined by the instruction set *InstructionSet* contained in <a href=\"../src/instruction_sets.py\">instruction_sets.py</a>. \n",
    "They implement a different visualization of the state vector based on permutations (defined in <a href=\"../src/permute_screen.py\">permute_screen.py</a>) of an image (defined in <a href=\"../src/displays.py\">displays.py</a>). "
   ]
  },
  {
   "cell_type": "markdown",
   "metadata": {},
   "source": [
    " "
   ]
  }
 ],
 "metadata": {
  "kernelspec": {
   "display_name": "py3.7_qiskit0.12",
   "language": "python",
   "name": "py3.7_qiskit0.12"
  },
  "language_info": {
   "codemirror_mode": {
    "name": "ipython",
    "version": 3
   },
   "file_extension": ".py",
   "mimetype": "text/x-python",
   "name": "python",
   "nbconvert_exporter": "python",
   "pygments_lexer": "ipython3",
   "version": "3.7.4"
  }
 },
 "nbformat": 4,
 "nbformat_minor": 2
}
